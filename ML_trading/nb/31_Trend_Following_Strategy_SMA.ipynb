{
 "cells": [
  {
   "cell_type": "code",
   "execution_count": 1,
   "metadata": {
    "colab": {
     "base_uri": "https://localhost:8080/"
    },
    "id": "WmaXF4Usk1T7",
    "outputId": "66e16743-501a-4704-db80-d95edd39837f"
   },
   "outputs": [
    {
     "name": "stderr",
     "output_type": "stream",
     "text": [
      "File 'SPY.csv' already there; not retrieving.\n",
      "\n"
     ]
    }
   ],
   "source": [
    "!wget -nc https://lazyprogrammer.me/course_files/SPY.csv"
   ]
  },
  {
   "cell_type": "code",
   "execution_count": 2,
   "metadata": {
    "id": "-WVgIMuPk4t6"
   },
   "outputs": [],
   "source": [
    "import pandas as pd\n",
    "import numpy as np\n",
    "import matplotlib.pyplot as plt"
   ]
  },
  {
   "cell_type": "code",
   "execution_count": 12,
   "metadata": {
    "id": "zmT4Zyowk6B6"
   },
   "outputs": [],
   "source": [
    "df = pd.read_csv('SPY.csv', index_col='Date', parse_dates=True)"
   ]
  },
  {
   "cell_type": "code",
   "execution_count": 13,
   "metadata": {
    "colab": {
     "base_uri": "https://localhost:8080/",
     "height": 235
    },
    "id": "UpAr4maSk9Vm",
    "outputId": "f00afc99-309d-465a-ad77-81b54063cb35"
   },
   "outputs": [
    {
     "data": {
      "text/html": [
       "<div>\n",
       "<style scoped>\n",
       "    .dataframe tbody tr th:only-of-type {\n",
       "        vertical-align: middle;\n",
       "    }\n",
       "\n",
       "    .dataframe tbody tr th {\n",
       "        vertical-align: top;\n",
       "    }\n",
       "\n",
       "    .dataframe thead th {\n",
       "        text-align: right;\n",
       "    }\n",
       "</style>\n",
       "<table border=\"1\" class=\"dataframe\">\n",
       "  <thead>\n",
       "    <tr style=\"text-align: right;\">\n",
       "      <th></th>\n",
       "      <th>Open</th>\n",
       "      <th>High</th>\n",
       "      <th>Low</th>\n",
       "      <th>Close</th>\n",
       "      <th>Adj Close</th>\n",
       "      <th>Volume</th>\n",
       "    </tr>\n",
       "    <tr>\n",
       "      <th>Date</th>\n",
       "      <th></th>\n",
       "      <th></th>\n",
       "      <th></th>\n",
       "      <th></th>\n",
       "      <th></th>\n",
       "      <th></th>\n",
       "    </tr>\n",
       "  </thead>\n",
       "  <tbody>\n",
       "    <tr>\n",
       "      <th>2010-01-04</th>\n",
       "      <td>112.370003</td>\n",
       "      <td>113.389999</td>\n",
       "      <td>111.510002</td>\n",
       "      <td>113.330002</td>\n",
       "      <td>92.246048</td>\n",
       "      <td>118944600</td>\n",
       "    </tr>\n",
       "    <tr>\n",
       "      <th>2010-01-05</th>\n",
       "      <td>113.260002</td>\n",
       "      <td>113.680000</td>\n",
       "      <td>112.849998</td>\n",
       "      <td>113.629997</td>\n",
       "      <td>92.490204</td>\n",
       "      <td>111579900</td>\n",
       "    </tr>\n",
       "    <tr>\n",
       "      <th>2010-01-06</th>\n",
       "      <td>113.519997</td>\n",
       "      <td>113.989998</td>\n",
       "      <td>113.430000</td>\n",
       "      <td>113.709999</td>\n",
       "      <td>92.555328</td>\n",
       "      <td>116074400</td>\n",
       "    </tr>\n",
       "    <tr>\n",
       "      <th>2010-01-07</th>\n",
       "      <td>113.500000</td>\n",
       "      <td>114.330002</td>\n",
       "      <td>113.180000</td>\n",
       "      <td>114.190002</td>\n",
       "      <td>92.946060</td>\n",
       "      <td>131091100</td>\n",
       "    </tr>\n",
       "    <tr>\n",
       "      <th>2010-01-08</th>\n",
       "      <td>113.889999</td>\n",
       "      <td>114.620003</td>\n",
       "      <td>113.660004</td>\n",
       "      <td>114.570000</td>\n",
       "      <td>93.255348</td>\n",
       "      <td>126402800</td>\n",
       "    </tr>\n",
       "  </tbody>\n",
       "</table>\n",
       "</div>"
      ],
      "text/plain": [
       "                  Open        High         Low       Close  Adj Close  \\\n",
       "Date                                                                    \n",
       "2010-01-04  112.370003  113.389999  111.510002  113.330002  92.246048   \n",
       "2010-01-05  113.260002  113.680000  112.849998  113.629997  92.490204   \n",
       "2010-01-06  113.519997  113.989998  113.430000  113.709999  92.555328   \n",
       "2010-01-07  113.500000  114.330002  113.180000  114.190002  92.946060   \n",
       "2010-01-08  113.889999  114.620003  113.660004  114.570000  93.255348   \n",
       "\n",
       "               Volume  \n",
       "Date                   \n",
       "2010-01-04  118944600  \n",
       "2010-01-05  111579900  \n",
       "2010-01-06  116074400  \n",
       "2010-01-07  131091100  \n",
       "2010-01-08  126402800  "
      ]
     },
     "execution_count": 13,
     "metadata": {},
     "output_type": "execute_result"
    }
   ],
   "source": [
    "df.head()"
   ]
  },
  {
   "cell_type": "code",
   "execution_count": 14,
   "metadata": {},
   "outputs": [],
   "source": [
    "df['tmp3'] = np.log(df['Close'] / df['Close'].shift(1))"
   ]
  },
  {
   "cell_type": "code",
   "execution_count": 15,
   "metadata": {},
   "outputs": [
    {
     "data": {
      "text/html": [
       "<div>\n",
       "<style scoped>\n",
       "    .dataframe tbody tr th:only-of-type {\n",
       "        vertical-align: middle;\n",
       "    }\n",
       "\n",
       "    .dataframe tbody tr th {\n",
       "        vertical-align: top;\n",
       "    }\n",
       "\n",
       "    .dataframe thead th {\n",
       "        text-align: right;\n",
       "    }\n",
       "</style>\n",
       "<table border=\"1\" class=\"dataframe\">\n",
       "  <thead>\n",
       "    <tr style=\"text-align: right;\">\n",
       "      <th></th>\n",
       "      <th>Open</th>\n",
       "      <th>High</th>\n",
       "      <th>Low</th>\n",
       "      <th>Close</th>\n",
       "      <th>Adj Close</th>\n",
       "      <th>Volume</th>\n",
       "      <th>tmp3</th>\n",
       "    </tr>\n",
       "    <tr>\n",
       "      <th>Date</th>\n",
       "      <th></th>\n",
       "      <th></th>\n",
       "      <th></th>\n",
       "      <th></th>\n",
       "      <th></th>\n",
       "      <th></th>\n",
       "      <th></th>\n",
       "    </tr>\n",
       "  </thead>\n",
       "  <tbody>\n",
       "    <tr>\n",
       "      <th>2010-01-04</th>\n",
       "      <td>112.370003</td>\n",
       "      <td>113.389999</td>\n",
       "      <td>111.510002</td>\n",
       "      <td>113.330002</td>\n",
       "      <td>92.246048</td>\n",
       "      <td>118944600</td>\n",
       "      <td>NaN</td>\n",
       "    </tr>\n",
       "    <tr>\n",
       "      <th>2010-01-05</th>\n",
       "      <td>113.260002</td>\n",
       "      <td>113.680000</td>\n",
       "      <td>112.849998</td>\n",
       "      <td>113.629997</td>\n",
       "      <td>92.490204</td>\n",
       "      <td>111579900</td>\n",
       "      <td>0.002644</td>\n",
       "    </tr>\n",
       "    <tr>\n",
       "      <th>2010-01-06</th>\n",
       "      <td>113.519997</td>\n",
       "      <td>113.989998</td>\n",
       "      <td>113.430000</td>\n",
       "      <td>113.709999</td>\n",
       "      <td>92.555328</td>\n",
       "      <td>116074400</td>\n",
       "      <td>0.000704</td>\n",
       "    </tr>\n",
       "    <tr>\n",
       "      <th>2010-01-07</th>\n",
       "      <td>113.500000</td>\n",
       "      <td>114.330002</td>\n",
       "      <td>113.180000</td>\n",
       "      <td>114.190002</td>\n",
       "      <td>92.946060</td>\n",
       "      <td>131091100</td>\n",
       "      <td>0.004212</td>\n",
       "    </tr>\n",
       "    <tr>\n",
       "      <th>2010-01-08</th>\n",
       "      <td>113.889999</td>\n",
       "      <td>114.620003</td>\n",
       "      <td>113.660004</td>\n",
       "      <td>114.570000</td>\n",
       "      <td>93.255348</td>\n",
       "      <td>126402800</td>\n",
       "      <td>0.003322</td>\n",
       "    </tr>\n",
       "  </tbody>\n",
       "</table>\n",
       "</div>"
      ],
      "text/plain": [
       "                  Open        High         Low       Close  Adj Close  \\\n",
       "Date                                                                    \n",
       "2010-01-04  112.370003  113.389999  111.510002  113.330002  92.246048   \n",
       "2010-01-05  113.260002  113.680000  112.849998  113.629997  92.490204   \n",
       "2010-01-06  113.519997  113.989998  113.430000  113.709999  92.555328   \n",
       "2010-01-07  113.500000  114.330002  113.180000  114.190002  92.946060   \n",
       "2010-01-08  113.889999  114.620003  113.660004  114.570000  93.255348   \n",
       "\n",
       "               Volume      tmp3  \n",
       "Date                             \n",
       "2010-01-04  118944600       NaN  \n",
       "2010-01-05  111579900  0.002644  \n",
       "2010-01-06  116074400  0.000704  \n",
       "2010-01-07  131091100  0.004212  \n",
       "2010-01-08  126402800  0.003322  "
      ]
     },
     "execution_count": 15,
     "metadata": {},
     "output_type": "execute_result"
    }
   ],
   "source": [
    "df.head()"
   ]
  },
  {
   "cell_type": "code",
   "execution_count": 16,
   "metadata": {
    "id": "oV2_2UIAk_VF"
   },
   "outputs": [],
   "source": [
    "df['LogReturn'] = np.log(df['Close']).diff()"
   ]
  },
  {
   "cell_type": "code",
   "execution_count": 17,
   "metadata": {
    "colab": {
     "base_uri": "https://localhost:8080/",
     "height": 235
    },
    "id": "nVxuws2UlA40",
    "outputId": "cf97f24b-5941-4657-ee10-238d8ce35751"
   },
   "outputs": [
    {
     "data": {
      "text/html": [
       "<div>\n",
       "<style scoped>\n",
       "    .dataframe tbody tr th:only-of-type {\n",
       "        vertical-align: middle;\n",
       "    }\n",
       "\n",
       "    .dataframe tbody tr th {\n",
       "        vertical-align: top;\n",
       "    }\n",
       "\n",
       "    .dataframe thead th {\n",
       "        text-align: right;\n",
       "    }\n",
       "</style>\n",
       "<table border=\"1\" class=\"dataframe\">\n",
       "  <thead>\n",
       "    <tr style=\"text-align: right;\">\n",
       "      <th></th>\n",
       "      <th>Open</th>\n",
       "      <th>High</th>\n",
       "      <th>Low</th>\n",
       "      <th>Close</th>\n",
       "      <th>Adj Close</th>\n",
       "      <th>Volume</th>\n",
       "      <th>tmp3</th>\n",
       "      <th>LogReturn</th>\n",
       "    </tr>\n",
       "    <tr>\n",
       "      <th>Date</th>\n",
       "      <th></th>\n",
       "      <th></th>\n",
       "      <th></th>\n",
       "      <th></th>\n",
       "      <th></th>\n",
       "      <th></th>\n",
       "      <th></th>\n",
       "      <th></th>\n",
       "    </tr>\n",
       "  </thead>\n",
       "  <tbody>\n",
       "    <tr>\n",
       "      <th>2010-01-04</th>\n",
       "      <td>112.370003</td>\n",
       "      <td>113.389999</td>\n",
       "      <td>111.510002</td>\n",
       "      <td>113.330002</td>\n",
       "      <td>92.246048</td>\n",
       "      <td>118944600</td>\n",
       "      <td>NaN</td>\n",
       "      <td>NaN</td>\n",
       "    </tr>\n",
       "    <tr>\n",
       "      <th>2010-01-05</th>\n",
       "      <td>113.260002</td>\n",
       "      <td>113.680000</td>\n",
       "      <td>112.849998</td>\n",
       "      <td>113.629997</td>\n",
       "      <td>92.490204</td>\n",
       "      <td>111579900</td>\n",
       "      <td>0.002644</td>\n",
       "      <td>0.002644</td>\n",
       "    </tr>\n",
       "    <tr>\n",
       "      <th>2010-01-06</th>\n",
       "      <td>113.519997</td>\n",
       "      <td>113.989998</td>\n",
       "      <td>113.430000</td>\n",
       "      <td>113.709999</td>\n",
       "      <td>92.555328</td>\n",
       "      <td>116074400</td>\n",
       "      <td>0.000704</td>\n",
       "      <td>0.000704</td>\n",
       "    </tr>\n",
       "    <tr>\n",
       "      <th>2010-01-07</th>\n",
       "      <td>113.500000</td>\n",
       "      <td>114.330002</td>\n",
       "      <td>113.180000</td>\n",
       "      <td>114.190002</td>\n",
       "      <td>92.946060</td>\n",
       "      <td>131091100</td>\n",
       "      <td>0.004212</td>\n",
       "      <td>0.004212</td>\n",
       "    </tr>\n",
       "    <tr>\n",
       "      <th>2010-01-08</th>\n",
       "      <td>113.889999</td>\n",
       "      <td>114.620003</td>\n",
       "      <td>113.660004</td>\n",
       "      <td>114.570000</td>\n",
       "      <td>93.255348</td>\n",
       "      <td>126402800</td>\n",
       "      <td>0.003322</td>\n",
       "      <td>0.003322</td>\n",
       "    </tr>\n",
       "  </tbody>\n",
       "</table>\n",
       "</div>"
      ],
      "text/plain": [
       "                  Open        High         Low       Close  Adj Close  \\\n",
       "Date                                                                    \n",
       "2010-01-04  112.370003  113.389999  111.510002  113.330002  92.246048   \n",
       "2010-01-05  113.260002  113.680000  112.849998  113.629997  92.490204   \n",
       "2010-01-06  113.519997  113.989998  113.430000  113.709999  92.555328   \n",
       "2010-01-07  113.500000  114.330002  113.180000  114.190002  92.946060   \n",
       "2010-01-08  113.889999  114.620003  113.660004  114.570000  93.255348   \n",
       "\n",
       "               Volume      tmp3  LogReturn  \n",
       "Date                                        \n",
       "2010-01-04  118944600       NaN        NaN  \n",
       "2010-01-05  111579900  0.002644   0.002644  \n",
       "2010-01-06  116074400  0.000704   0.000704  \n",
       "2010-01-07  131091100  0.004212   0.004212  \n",
       "2010-01-08  126402800  0.003322   0.003322  "
      ]
     },
     "execution_count": 17,
     "metadata": {},
     "output_type": "execute_result"
    }
   ],
   "source": [
    "df.head()"
   ]
  },
  {
   "cell_type": "code",
   "execution_count": 18,
   "metadata": {
    "id": "9Mk8IEhwlD9I"
   },
   "outputs": [],
   "source": [
    "df['LogReturn'] = df['LogReturn'].shift(-1)"
   ]
  },
  {
   "cell_type": "code",
   "execution_count": 19,
   "metadata": {
    "colab": {
     "base_uri": "https://localhost:8080/",
     "height": 235
    },
    "id": "LIY1mHfElFZf",
    "outputId": "b18c0619-c5e1-489c-d6ab-919701192209"
   },
   "outputs": [
    {
     "data": {
      "text/html": [
       "<div>\n",
       "<style scoped>\n",
       "    .dataframe tbody tr th:only-of-type {\n",
       "        vertical-align: middle;\n",
       "    }\n",
       "\n",
       "    .dataframe tbody tr th {\n",
       "        vertical-align: top;\n",
       "    }\n",
       "\n",
       "    .dataframe thead th {\n",
       "        text-align: right;\n",
       "    }\n",
       "</style>\n",
       "<table border=\"1\" class=\"dataframe\">\n",
       "  <thead>\n",
       "    <tr style=\"text-align: right;\">\n",
       "      <th></th>\n",
       "      <th>Open</th>\n",
       "      <th>High</th>\n",
       "      <th>Low</th>\n",
       "      <th>Close</th>\n",
       "      <th>Adj Close</th>\n",
       "      <th>Volume</th>\n",
       "      <th>tmp3</th>\n",
       "      <th>LogReturn</th>\n",
       "    </tr>\n",
       "    <tr>\n",
       "      <th>Date</th>\n",
       "      <th></th>\n",
       "      <th></th>\n",
       "      <th></th>\n",
       "      <th></th>\n",
       "      <th></th>\n",
       "      <th></th>\n",
       "      <th></th>\n",
       "      <th></th>\n",
       "    </tr>\n",
       "  </thead>\n",
       "  <tbody>\n",
       "    <tr>\n",
       "      <th>2010-01-04</th>\n",
       "      <td>112.370003</td>\n",
       "      <td>113.389999</td>\n",
       "      <td>111.510002</td>\n",
       "      <td>113.330002</td>\n",
       "      <td>92.246048</td>\n",
       "      <td>118944600</td>\n",
       "      <td>NaN</td>\n",
       "      <td>0.002644</td>\n",
       "    </tr>\n",
       "    <tr>\n",
       "      <th>2010-01-05</th>\n",
       "      <td>113.260002</td>\n",
       "      <td>113.680000</td>\n",
       "      <td>112.849998</td>\n",
       "      <td>113.629997</td>\n",
       "      <td>92.490204</td>\n",
       "      <td>111579900</td>\n",
       "      <td>0.002644</td>\n",
       "      <td>0.000704</td>\n",
       "    </tr>\n",
       "    <tr>\n",
       "      <th>2010-01-06</th>\n",
       "      <td>113.519997</td>\n",
       "      <td>113.989998</td>\n",
       "      <td>113.430000</td>\n",
       "      <td>113.709999</td>\n",
       "      <td>92.555328</td>\n",
       "      <td>116074400</td>\n",
       "      <td>0.000704</td>\n",
       "      <td>0.004212</td>\n",
       "    </tr>\n",
       "    <tr>\n",
       "      <th>2010-01-07</th>\n",
       "      <td>113.500000</td>\n",
       "      <td>114.330002</td>\n",
       "      <td>113.180000</td>\n",
       "      <td>114.190002</td>\n",
       "      <td>92.946060</td>\n",
       "      <td>131091100</td>\n",
       "      <td>0.004212</td>\n",
       "      <td>0.003322</td>\n",
       "    </tr>\n",
       "    <tr>\n",
       "      <th>2010-01-08</th>\n",
       "      <td>113.889999</td>\n",
       "      <td>114.620003</td>\n",
       "      <td>113.660004</td>\n",
       "      <td>114.570000</td>\n",
       "      <td>93.255348</td>\n",
       "      <td>126402800</td>\n",
       "      <td>0.003322</td>\n",
       "      <td>0.001396</td>\n",
       "    </tr>\n",
       "  </tbody>\n",
       "</table>\n",
       "</div>"
      ],
      "text/plain": [
       "                  Open        High         Low       Close  Adj Close  \\\n",
       "Date                                                                    \n",
       "2010-01-04  112.370003  113.389999  111.510002  113.330002  92.246048   \n",
       "2010-01-05  113.260002  113.680000  112.849998  113.629997  92.490204   \n",
       "2010-01-06  113.519997  113.989998  113.430000  113.709999  92.555328   \n",
       "2010-01-07  113.500000  114.330002  113.180000  114.190002  92.946060   \n",
       "2010-01-08  113.889999  114.620003  113.660004  114.570000  93.255348   \n",
       "\n",
       "               Volume      tmp3  LogReturn  \n",
       "Date                                        \n",
       "2010-01-04  118944600       NaN   0.002644  \n",
       "2010-01-05  111579900  0.002644   0.000704  \n",
       "2010-01-06  116074400  0.000704   0.004212  \n",
       "2010-01-07  131091100  0.004212   0.003322  \n",
       "2010-01-08  126402800  0.003322   0.001396  "
      ]
     },
     "execution_count": 19,
     "metadata": {},
     "output_type": "execute_result"
    }
   ],
   "source": [
    "df.head()"
   ]
  },
  {
   "cell_type": "code",
   "execution_count": 20,
   "metadata": {
    "id": "2u5yn89WlHfp"
   },
   "outputs": [],
   "source": [
    "df['SlowSMA'] = df['Close'].rolling(30).mean()\n",
    "df['FastSMA'] = df['Close'].rolling(10).mean()"
   ]
  },
  {
   "cell_type": "code",
   "execution_count": 21,
   "metadata": {
    "colab": {
     "base_uri": "https://localhost:8080/"
    },
    "id": "XurglPknlLU4",
    "outputId": "87394afb-a9f4-46cc-b1b7-dd5e219a08a4"
   },
   "outputs": [
    {
     "data": {
      "image/png": "[encoded data removed]",
      "text/plain": [
       "<Figure size 720x360 with 1 Axes>"
      ]
     },
     "metadata": {
      "needs_background": "light"
     },
     "output_type": "display_data"
    }
   ],
   "source": [
    "df[['Close', 'FastSMA', 'SlowSMA']].plot(figsize=(10, 5));"
   ]
  },
  {
   "cell_type": "code",
   "execution_count": null,
   "metadata": {
    "colab": {
     "base_uri": "https://localhost:8080/",
     "height": 326
    },
    "id": "PT96_TrOlPam",
    "outputId": "f6ad210c-99fb-476a-8811-04acf27a7481"
   },
   "outputs": [
    {
     "data": {
      "image/png": "[encoded data removed]",
      "text/plain": [
       "<Figure size 720x360 with 1 Axes>"
      ]
     },
     "metadata": {
      "needs_background": "light",
      "tags": []
     },
     "output_type": "display_data"
    }
   ],
   "source": [
    "df[['Close', 'FastSMA', 'SlowSMA']].iloc[:300].plot(figsize=(10, 5));"
   ]
  },
  {
   "cell_type": "code",
   "execution_count": null,
   "metadata": {
    "id": "HAjuhQGXlUgA"
   },
   "outputs": [],
   "source": [
    "df['Signal'] = np.where(df['FastSMA'] >= df['SlowSMA'], 1, 0)"
   ]
  },
  {
   "cell_type": "code",
   "execution_count": null,
   "metadata": {
    "colab": {
     "base_uri": "https://localhost:8080/",
     "height": 390
    },
    "id": "XfjZTxH2lamt",
    "outputId": "8324d82f-3d6d-4494-ed2d-b054abc50117"
   },
   "outputs": [
    {
     "data": {
      "text/html": [
       "<div>\n",
       "<style scoped>\n",
       "    .dataframe tbody tr th:only-of-type {\n",
       "        vertical-align: middle;\n",
       "    }\n",
       "\n",
       "    .dataframe tbody tr th {\n",
       "        vertical-align: top;\n",
       "    }\n",
       "\n",
       "    .dataframe thead th {\n",
       "        text-align: right;\n",
       "    }\n",
       "</style>\n",
       "<table border=\"1\" class=\"dataframe\">\n",
       "  <thead>\n",
       "    <tr style=\"text-align: right;\">\n",
       "      <th></th>\n",
       "      <th>Open</th>\n",
       "      <th>High</th>\n",
       "      <th>Low</th>\n",
       "      <th>Close</th>\n",
       "      <th>Adj Close</th>\n",
       "      <th>Volume</th>\n",
       "      <th>LogReturn</th>\n",
       "      <th>SlowSMA</th>\n",
       "      <th>FastSMA</th>\n",
       "      <th>Signal</th>\n",
       "    </tr>\n",
       "    <tr>\n",
       "      <th>Date</th>\n",
       "      <th></th>\n",
       "      <th></th>\n",
       "      <th></th>\n",
       "      <th></th>\n",
       "      <th></th>\n",
       "      <th></th>\n",
       "      <th></th>\n",
       "      <th></th>\n",
       "      <th></th>\n",
       "      <th></th>\n",
       "    </tr>\n",
       "  </thead>\n",
       "  <tbody>\n",
       "    <tr>\n",
       "      <th>2010-04-29</th>\n",
       "      <td>120.099998</td>\n",
       "      <td>121.110001</td>\n",
       "      <td>120.070000</td>\n",
       "      <td>120.860001</td>\n",
       "      <td>98.780228</td>\n",
       "      <td>193775000</td>\n",
       "      <td>-0.017107</td>\n",
       "      <td>118.891334</td>\n",
       "      <td>120.360999</td>\n",
       "      <td>1</td>\n",
       "    </tr>\n",
       "    <tr>\n",
       "      <th>2010-04-30</th>\n",
       "      <td>120.879997</td>\n",
       "      <td>121.010002</td>\n",
       "      <td>118.779999</td>\n",
       "      <td>118.809998</td>\n",
       "      <td>97.104759</td>\n",
       "      <td>270000900</td>\n",
       "      <td>0.012879</td>\n",
       "      <td>118.950333</td>\n",
       "      <td>120.305999</td>\n",
       "      <td>1</td>\n",
       "    </tr>\n",
       "    <tr>\n",
       "      <th>2010-05-03</th>\n",
       "      <td>119.379997</td>\n",
       "      <td>120.680000</td>\n",
       "      <td>119.199997</td>\n",
       "      <td>120.349998</td>\n",
       "      <td>98.363426</td>\n",
       "      <td>182747900</td>\n",
       "      <td>-0.023796</td>\n",
       "      <td>119.096333</td>\n",
       "      <td>120.359999</td>\n",
       "      <td>1</td>\n",
       "    </tr>\n",
       "    <tr>\n",
       "      <th>2010-05-04</th>\n",
       "      <td>119.010002</td>\n",
       "      <td>119.029999</td>\n",
       "      <td>116.919998</td>\n",
       "      <td>117.519997</td>\n",
       "      <td>96.050430</td>\n",
       "      <td>360353400</td>\n",
       "      <td>-0.005974</td>\n",
       "      <td>119.127333</td>\n",
       "      <td>120.023999</td>\n",
       "      <td>1</td>\n",
       "    </tr>\n",
       "    <tr>\n",
       "      <th>2010-05-05</th>\n",
       "      <td>116.559998</td>\n",
       "      <td>117.800003</td>\n",
       "      <td>115.970001</td>\n",
       "      <td>116.820000</td>\n",
       "      <td>95.478325</td>\n",
       "      <td>328973200</td>\n",
       "      <td>-0.033778</td>\n",
       "      <td>119.107667</td>\n",
       "      <td>119.639999</td>\n",
       "      <td>1</td>\n",
       "    </tr>\n",
       "    <tr>\n",
       "      <th>2010-05-06</th>\n",
       "      <td>116.260002</td>\n",
       "      <td>117.000000</td>\n",
       "      <td>105.000000</td>\n",
       "      <td>112.940002</td>\n",
       "      <td>92.307137</td>\n",
       "      <td>647356600</td>\n",
       "      <td>-0.014987</td>\n",
       "      <td>118.977667</td>\n",
       "      <td>118.831999</td>\n",
       "      <td>0</td>\n",
       "    </tr>\n",
       "    <tr>\n",
       "      <th>2010-05-07</th>\n",
       "      <td>112.639999</td>\n",
       "      <td>113.769997</td>\n",
       "      <td>109.410004</td>\n",
       "      <td>111.260002</td>\n",
       "      <td>90.934059</td>\n",
       "      <td>637558800</td>\n",
       "      <td>0.043099</td>\n",
       "      <td>118.798000</td>\n",
       "      <td>117.777000</td>\n",
       "      <td>0</td>\n",
       "    </tr>\n",
       "    <tr>\n",
       "      <th>2010-05-10</th>\n",
       "      <td>115.809998</td>\n",
       "      <td>116.650002</td>\n",
       "      <td>114.910004</td>\n",
       "      <td>116.160004</td>\n",
       "      <td>94.938896</td>\n",
       "      <td>396159600</td>\n",
       "      <td>-0.002845</td>\n",
       "      <td>118.784000</td>\n",
       "      <td>117.258000</td>\n",
       "      <td>0</td>\n",
       "    </tr>\n",
       "    <tr>\n",
       "      <th>2010-05-11</th>\n",
       "      <td>115.070000</td>\n",
       "      <td>117.360001</td>\n",
       "      <td>114.910004</td>\n",
       "      <td>115.830002</td>\n",
       "      <td>94.669189</td>\n",
       "      <td>317849800</td>\n",
       "      <td>0.013889</td>\n",
       "      <td>118.734334</td>\n",
       "      <td>116.993000</td>\n",
       "      <td>0</td>\n",
       "    </tr>\n",
       "    <tr>\n",
       "      <th>2010-05-12</th>\n",
       "      <td>116.290001</td>\n",
       "      <td>117.620003</td>\n",
       "      <td>116.089996</td>\n",
       "      <td>117.449997</td>\n",
       "      <td>95.993225</td>\n",
       "      <td>235607100</td>\n",
       "      <td>-0.012509</td>\n",
       "      <td>118.736000</td>\n",
       "      <td>116.800000</td>\n",
       "      <td>0</td>\n",
       "    </tr>\n",
       "  </tbody>\n",
       "</table>\n",
       "</div>"
      ],
      "text/plain": [
       "                  Open        High         Low  ...     SlowSMA     FastSMA  Signal\n",
       "Date                                            ...                                \n",
       "2010-04-29  120.099998  121.110001  120.070000  ...  118.891334  120.360999       1\n",
       "2010-04-30  120.879997  121.010002  118.779999  ...  118.950333  120.305999       1\n",
       "2010-05-03  119.379997  120.680000  119.199997  ...  119.096333  120.359999       1\n",
       "2010-05-04  119.010002  119.029999  116.919998  ...  119.127333  120.023999       1\n",
       "2010-05-05  116.559998  117.800003  115.970001  ...  119.107667  119.639999       1\n",
       "2010-05-06  116.260002  117.000000  105.000000  ...  118.977667  118.831999       0\n",
       "2010-05-07  112.639999  113.769997  109.410004  ...  118.798000  117.777000       0\n",
       "2010-05-10  115.809998  116.650002  114.910004  ...  118.784000  117.258000       0\n",
       "2010-05-11  115.070000  117.360001  114.910004  ...  118.734334  116.993000       0\n",
       "2010-05-12  116.290001  117.620003  116.089996  ...  118.736000  116.800000       0\n",
       "\n",
       "[10 rows x 10 columns]"
      ]
     },
     "execution_count": 37,
     "metadata": {
      "tags": []
     },
     "output_type": "execute_result"
    }
   ],
   "source": [
    "df.iloc[80:].head(10)"
   ]
  },
  {
   "cell_type": "code",
   "execution_count": null,
   "metadata": {
    "id": "QtPZMxNelcSA"
   },
   "outputs": [],
   "source": [
    "df['PrevSignal'] = df['Signal'].shift(1)\n",
    "df['Buy'] = (df['PrevSignal'] == 0) & (df['Signal'] == 1) # Fast < Slow --> Fast > Slow\n",
    "df['Sell'] = (df['PrevSignal'] == 1) & (df['Signal'] == 0) # Fast > Slow --> Fast < Slow"
   ]
  },
  {
   "cell_type": "code",
   "execution_count": null,
   "metadata": {
    "colab": {
     "base_uri": "https://localhost:8080/",
     "height": 390
    },
    "id": "YCykCHotliEN",
    "outputId": "afaef356-cbad-4815-fe89-38c71acdf0d8"
   },
   "outputs": [
    {
     "data": {
      "text/html": [
       "<div>\n",
       "<style scoped>\n",
       "    .dataframe tbody tr th:only-of-type {\n",
       "        vertical-align: middle;\n",
       "    }\n",
       "\n",
       "    .dataframe tbody tr th {\n",
       "        vertical-align: top;\n",
       "    }\n",
       "\n",
       "    .dataframe thead th {\n",
       "        text-align: right;\n",
       "    }\n",
       "</style>\n",
       "<table border=\"1\" class=\"dataframe\">\n",
       "  <thead>\n",
       "    <tr style=\"text-align: right;\">\n",
       "      <th></th>\n",
       "      <th>Open</th>\n",
       "      <th>High</th>\n",
       "      <th>Low</th>\n",
       "      <th>Close</th>\n",
       "      <th>Adj Close</th>\n",
       "      <th>Volume</th>\n",
       "      <th>LogReturn</th>\n",
       "      <th>SlowSMA</th>\n",
       "      <th>FastSMA</th>\n",
       "      <th>Signal</th>\n",
       "      <th>PrevSignal</th>\n",
       "      <th>Buy</th>\n",
       "      <th>Sell</th>\n",
       "    </tr>\n",
       "    <tr>\n",
       "      <th>Date</th>\n",
       "      <th></th>\n",
       "      <th></th>\n",
       "      <th></th>\n",
       "      <th></th>\n",
       "      <th></th>\n",
       "      <th></th>\n",
       "      <th></th>\n",
       "      <th></th>\n",
       "      <th></th>\n",
       "      <th></th>\n",
       "      <th></th>\n",
       "      <th></th>\n",
       "      <th></th>\n",
       "    </tr>\n",
       "  </thead>\n",
       "  <tbody>\n",
       "    <tr>\n",
       "      <th>2010-04-29</th>\n",
       "      <td>120.099998</td>\n",
       "      <td>121.110001</td>\n",
       "      <td>120.070000</td>\n",
       "      <td>120.860001</td>\n",
       "      <td>98.780228</td>\n",
       "      <td>193775000</td>\n",
       "      <td>-0.017107</td>\n",
       "      <td>118.891334</td>\n",
       "      <td>120.360999</td>\n",
       "      <td>1</td>\n",
       "      <td>1.0</td>\n",
       "      <td>False</td>\n",
       "      <td>False</td>\n",
       "    </tr>\n",
       "    <tr>\n",
       "      <th>2010-04-30</th>\n",
       "      <td>120.879997</td>\n",
       "      <td>121.010002</td>\n",
       "      <td>118.779999</td>\n",
       "      <td>118.809998</td>\n",
       "      <td>97.104759</td>\n",
       "      <td>270000900</td>\n",
       "      <td>0.012879</td>\n",
       "      <td>118.950333</td>\n",
       "      <td>120.305999</td>\n",
       "      <td>1</td>\n",
       "      <td>1.0</td>\n",
       "      <td>False</td>\n",
       "      <td>False</td>\n",
       "    </tr>\n",
       "    <tr>\n",
       "      <th>2010-05-03</th>\n",
       "      <td>119.379997</td>\n",
       "      <td>120.680000</td>\n",
       "      <td>119.199997</td>\n",
       "      <td>120.349998</td>\n",
       "      <td>98.363426</td>\n",
       "      <td>182747900</td>\n",
       "      <td>-0.023796</td>\n",
       "      <td>119.096333</td>\n",
       "      <td>120.359999</td>\n",
       "      <td>1</td>\n",
       "      <td>1.0</td>\n",
       "      <td>False</td>\n",
       "      <td>False</td>\n",
       "    </tr>\n",
       "    <tr>\n",
       "      <th>2010-05-04</th>\n",
       "      <td>119.010002</td>\n",
       "      <td>119.029999</td>\n",
       "      <td>116.919998</td>\n",
       "      <td>117.519997</td>\n",
       "      <td>96.050430</td>\n",
       "      <td>360353400</td>\n",
       "      <td>-0.005974</td>\n",
       "      <td>119.127333</td>\n",
       "      <td>120.023999</td>\n",
       "      <td>1</td>\n",
       "      <td>1.0</td>\n",
       "      <td>False</td>\n",
       "      <td>False</td>\n",
       "    </tr>\n",
       "    <tr>\n",
       "      <th>2010-05-05</th>\n",
       "      <td>116.559998</td>\n",
       "      <td>117.800003</td>\n",
       "      <td>115.970001</td>\n",
       "      <td>116.820000</td>\n",
       "      <td>95.478325</td>\n",
       "      <td>328973200</td>\n",
       "      <td>-0.033778</td>\n",
       "      <td>119.107667</td>\n",
       "      <td>119.639999</td>\n",
       "      <td>1</td>\n",
       "      <td>1.0</td>\n",
       "      <td>False</td>\n",
       "      <td>False</td>\n",
       "    </tr>\n",
       "    <tr>\n",
       "      <th>2010-05-06</th>\n",
       "      <td>116.260002</td>\n",
       "      <td>117.000000</td>\n",
       "      <td>105.000000</td>\n",
       "      <td>112.940002</td>\n",
       "      <td>92.307137</td>\n",
       "      <td>647356600</td>\n",
       "      <td>-0.014987</td>\n",
       "      <td>118.977667</td>\n",
       "      <td>118.831999</td>\n",
       "      <td>0</td>\n",
       "      <td>1.0</td>\n",
       "      <td>False</td>\n",
       "      <td>True</td>\n",
       "    </tr>\n",
       "    <tr>\n",
       "      <th>2010-05-07</th>\n",
       "      <td>112.639999</td>\n",
       "      <td>113.769997</td>\n",
       "      <td>109.410004</td>\n",
       "      <td>111.260002</td>\n",
       "      <td>90.934059</td>\n",
       "      <td>637558800</td>\n",
       "      <td>0.043099</td>\n",
       "      <td>118.798000</td>\n",
       "      <td>117.777000</td>\n",
       "      <td>0</td>\n",
       "      <td>0.0</td>\n",
       "      <td>False</td>\n",
       "      <td>False</td>\n",
       "    </tr>\n",
       "    <tr>\n",
       "      <th>2010-05-10</th>\n",
       "      <td>115.809998</td>\n",
       "      <td>116.650002</td>\n",
       "      <td>114.910004</td>\n",
       "      <td>116.160004</td>\n",
       "      <td>94.938896</td>\n",
       "      <td>396159600</td>\n",
       "      <td>-0.002845</td>\n",
       "      <td>118.784000</td>\n",
       "      <td>117.258000</td>\n",
       "      <td>0</td>\n",
       "      <td>0.0</td>\n",
       "      <td>False</td>\n",
       "      <td>False</td>\n",
       "    </tr>\n",
       "    <tr>\n",
       "      <th>2010-05-11</th>\n",
       "      <td>115.070000</td>\n",
       "      <td>117.360001</td>\n",
       "      <td>114.910004</td>\n",
       "      <td>115.830002</td>\n",
       "      <td>94.669189</td>\n",
       "      <td>317849800</td>\n",
       "      <td>0.013889</td>\n",
       "      <td>118.734334</td>\n",
       "      <td>116.993000</td>\n",
       "      <td>0</td>\n",
       "      <td>0.0</td>\n",
       "      <td>False</td>\n",
       "      <td>False</td>\n",
       "    </tr>\n",
       "    <tr>\n",
       "      <th>2010-05-12</th>\n",
       "      <td>116.290001</td>\n",
       "      <td>117.620003</td>\n",
       "      <td>116.089996</td>\n",
       "      <td>117.449997</td>\n",
       "      <td>95.993225</td>\n",
       "      <td>235607100</td>\n",
       "      <td>-0.012509</td>\n",
       "      <td>118.736000</td>\n",
       "      <td>116.800000</td>\n",
       "      <td>0</td>\n",
       "      <td>0.0</td>\n",
       "      <td>False</td>\n",
       "      <td>False</td>\n",
       "    </tr>\n",
       "  </tbody>\n",
       "</table>\n",
       "</div>"
      ],
      "text/plain": [
       "                  Open        High         Low  ...  PrevSignal    Buy   Sell\n",
       "Date                                            ...                          \n",
       "2010-04-29  120.099998  121.110001  120.070000  ...         1.0  False  False\n",
       "2010-04-30  120.879997  121.010002  118.779999  ...         1.0  False  False\n",
       "2010-05-03  119.379997  120.680000  119.199997  ...         1.0  False  False\n",
       "2010-05-04  119.010002  119.029999  116.919998  ...         1.0  False  False\n",
       "2010-05-05  116.559998  117.800003  115.970001  ...         1.0  False  False\n",
       "2010-05-06  116.260002  117.000000  105.000000  ...         1.0  False   True\n",
       "2010-05-07  112.639999  113.769997  109.410004  ...         0.0  False  False\n",
       "2010-05-10  115.809998  116.650002  114.910004  ...         0.0  False  False\n",
       "2010-05-11  115.070000  117.360001  114.910004  ...         0.0  False  False\n",
       "2010-05-12  116.290001  117.620003  116.089996  ...         0.0  False  False\n",
       "\n",
       "[10 rows x 13 columns]"
      ]
     },
     "execution_count": 39,
     "metadata": {
      "tags": []
     },
     "output_type": "execute_result"
    }
   ],
   "source": [
    "df.iloc[80:].head(10)"
   ]
  },
  {
   "cell_type": "code",
   "execution_count": null,
   "metadata": {
    "id": "nLwYDgLOlmds"
   },
   "outputs": [],
   "source": [
    "is_invested = False\n",
    "def assign_is_invested(row):\n",
    "  global is_invested\n",
    "  if is_invested and row['Sell']:\n",
    "    is_invested = False\n",
    "  if not is_invested and row['Buy']:\n",
    "    is_invested = True\n",
    "  \n",
    "  # otherwise, just remain\n",
    "  return is_invested\n",
    "\n",
    "df['IsInvested'] = df.apply(assign_is_invested, axis=1)"
   ]
  },
  {
   "cell_type": "code",
   "execution_count": null,
   "metadata": {
    "id": "kAkp_zmMlp_l"
   },
   "outputs": [],
   "source": [
    "df['AlgoLogReturn'] = df['IsInvested'] * df['LogReturn']"
   ]
  },
  {
   "cell_type": "code",
   "execution_count": null,
   "metadata": {
    "colab": {
     "base_uri": "https://localhost:8080/"
    },
    "id": "nxsKOXQmltkh",
    "outputId": "abe777d2-f88b-4923-f5d0-0874842d98fe"
   },
   "outputs": [
    {
     "data": {
      "text/plain": [
       "0.3049019540291429"
      ]
     },
     "execution_count": 42,
     "metadata": {
      "tags": []
     },
     "output_type": "execute_result"
    }
   ],
   "source": [
    "# Total algo log return\n",
    "df['AlgoLogReturn'].sum()"
   ]
  },
  {
   "cell_type": "code",
   "execution_count": null,
   "metadata": {
    "colab": {
     "base_uri": "https://localhost:8080/"
    },
    "id": "Ghu5zMJ5luiA",
    "outputId": "1606522f-1ea7-40fe-96ec-6564bbc47154"
   },
   "outputs": [
    {
     "data": {
      "text/plain": [
       "0.7821162403084001"
      ]
     },
     "execution_count": 43,
     "metadata": {
      "tags": []
     },
     "output_type": "execute_result"
    }
   ],
   "source": [
    "# Total return buy-and-hold\n",
    "df['LogReturn'].sum()"
   ]
  },
  {
   "cell_type": "code",
   "execution_count": null,
   "metadata": {
    "colab": {
     "base_uri": "https://localhost:8080/"
    },
    "id": "oyNeRZhulzVH",
    "outputId": "50cbc490-e978-40bd-f797-6b3825c86b58"
   },
   "outputs": [
    {
     "data": {
      "text/plain": [
       "(0.006089880064170894, 0.02213394709006064)"
      ]
     },
     "execution_count": 44,
     "metadata": {
      "tags": []
     },
     "output_type": "execute_result"
    }
   ],
   "source": [
    "df['AlgoLogReturn'].std(), df['AlgoLogReturn'].mean()/df['AlgoLogReturn'].std()"
   ]
  },
  {
   "cell_type": "code",
   "execution_count": null,
   "metadata": {
    "colab": {
     "base_uri": "https://localhost:8080/"
    },
    "id": "hcVIUMjbl1Sa",
    "outputId": "1b064d94-e595-4921-8f2f-b268baf69c1f"
   },
   "outputs": [
    {
     "data": {
      "text/plain": [
       "(0.009446971193167578, 0.03660042364089666)"
      ]
     },
     "execution_count": 45,
     "metadata": {
      "tags": []
     },
     "output_type": "execute_result"
    }
   ],
   "source": [
    "df['LogReturn'].std(), df['LogReturn'].mean()/df['LogReturn'].std()"
   ]
  },
  {
   "cell_type": "markdown",
   "metadata": {
    "id": "3fjkk53Bl5oo"
   },
   "source": [
    "## Searching for Fast and Slow Hyperparameters"
   ]
  },
  {
   "cell_type": "code",
   "execution_count": null,
   "metadata": {
    "id": "rjf5gv22l5-f"
   },
   "outputs": [],
   "source": [
    "# Start by writing a function to plug in parameters and obtain score\n",
    "Ntest = 1000\n",
    "def trend_following(df, fast, slow):\n",
    "  global is_invested\n",
    "  df['SlowSMA'] = df['Close'].rolling(slow).mean()\n",
    "  df['FastSMA'] = df['Close'].rolling(fast).mean()\n",
    "  df['Signal'] = np.where(df['FastSMA'] >= df['SlowSMA'], 1, 0)\n",
    "  df['PrevSignal'] = df['Signal'].shift(1)\n",
    "  df['Buy'] = (df['PrevSignal'] == 0) & (df['Signal'] == 1) # Fast < Slow --> Fast > Slow\n",
    "  df['Sell'] = (df['PrevSignal'] == 1) & (df['Signal'] == 0) # Fast > Slow --> Fast < Slow\n",
    "\n",
    "  # Split into train and test\n",
    "  train = df.iloc[:-Ntest]\n",
    "  test = df.iloc[-Ntest:]\n",
    "\n",
    "  train_idx = df.index <= train.index[-1]\n",
    "  test_idx = df.index > train.index[-1]\n",
    "\n",
    "  is_invested = False\n",
    "  df.loc[train_idx,'IsInvested'] = train.apply(assign_is_invested, axis=1)\n",
    "  df.loc[train_idx,'AlgoLogReturn'] = train['PrevSignal'] * train['LogReturn']\n",
    "\n",
    "  is_invested = False\n",
    "  df.loc[test_idx,'IsInvested'] = test.apply(assign_is_invested, axis=1)\n",
    "  df.loc[test_idx,'AlgoLogReturn'] = test['PrevSignal'] * test['LogReturn']\n",
    "\n",
    "  return train['AlgoLogReturn'][:-1].sum(), test['AlgoLogReturn'][:-1].sum()"
   ]
  },
  {
   "cell_type": "code",
   "execution_count": null,
   "metadata": {
    "colab": {
     "base_uri": "https://localhost:8080/"
    },
    "id": "eIMoSKrJmlX9",
    "outputId": "0f03502b-f617-451b-d876-3dd8677a0fe1"
   },
   "outputs": [
    {
     "data": {
      "text/plain": [
       "(0.21371231572708904, 0.09118963830205384)"
      ]
     },
     "execution_count": 47,
     "metadata": {
      "tags": []
     },
     "output_type": "execute_result"
    }
   ],
   "source": [
    "trend_following(df, 10, 30)"
   ]
  },
  {
   "cell_type": "code",
   "execution_count": null,
   "metadata": {
    "colab": {
     "base_uri": "https://localhost:8080/"
    },
    "id": "p6W5zP-6npg0",
    "outputId": "611241cf-2005-4a8e-9947-51c40ade263f"
   },
   "outputs": [
    {
     "data": {
      "text/plain": [
       "(9, 15, (0.4964599743474549, -0.08087458298350825))"
      ]
     },
     "execution_count": 48,
     "metadata": {
      "tags": []
     },
     "output_type": "execute_result"
    }
   ],
   "source": [
    "# Let's do a grid search\n",
    "best_fast = None\n",
    "best_slow = None\n",
    "best_score = float('-inf')\n",
    "for fast in range(3, 30):\n",
    "  for slow in range(fast + 5, 50):\n",
    "    score, _ = trend_following(df, fast, slow)\n",
    "    if score > best_score:\n",
    "      best_fast = fast\n",
    "      best_slow = slow\n",
    "      best_score = score\n",
    "best_fast, best_slow, trend_following(df, best_fast, best_slow)"
   ]
  },
  {
   "cell_type": "code",
   "execution_count": null,
   "metadata": {
    "id": "W3bumja8oY8g"
   },
   "outputs": [],
   "source": [
    "train = df.iloc[:-Ntest].copy()\n",
    "test = df.iloc[-Ntest:].copy()"
   ]
  },
  {
   "cell_type": "code",
   "execution_count": null,
   "metadata": {
    "colab": {
     "base_uri": "https://localhost:8080/"
    },
    "id": "VR2EZDQLog8z",
    "outputId": "37fc1317-ec96-4bfa-d4a6-5cac6b23c960"
   },
   "outputs": [
    {
     "data": {
      "text/plain": [
       "0.5970866514889392"
      ]
     },
     "execution_count": 50,
     "metadata": {
      "tags": []
     },
     "output_type": "execute_result"
    }
   ],
   "source": [
    "# Total return buy-and-hold train\n",
    "train['LogReturn'][:-1].sum()"
   ]
  },
  {
   "cell_type": "code",
   "execution_count": null,
   "metadata": {
    "colab": {
     "base_uri": "https://localhost:8080/"
    },
    "id": "ueaaEtErolu3",
    "outputId": "c78d656f-bd2a-4596-f524-0438a4e9e068"
   },
   "outputs": [
    {
     "data": {
      "text/plain": [
       "0.19307543946998518"
      ]
     },
     "execution_count": 51,
     "metadata": {
      "tags": []
     },
     "output_type": "execute_result"
    }
   ],
   "source": [
    "# Total return buy-and-hold test\n",
    "# Note: last value is NaN, just doing this for the sake of uniformity\n",
    "test['LogReturn'][:-1].sum()"
   ]
  },
  {
   "cell_type": "code",
   "execution_count": null,
   "metadata": {
    "colab": {
     "base_uri": "https://localhost:8080/"
    },
    "id": "DpJj4Vkcoq5X",
    "outputId": "f504225f-aeac-4cf3-a54c-6282af29388f"
   },
   "outputs": [
    {
     "data": {
      "text/plain": [
       "(0.05965348365989586, 0.04642867836819648)"
      ]
     },
     "execution_count": 52,
     "metadata": {
      "tags": []
     },
     "output_type": "execute_result"
    }
   ],
   "source": [
    "# SR algo vs. SR buy-and-hold train\n",
    "train['AlgoLogReturn'].mean()/train['AlgoLogReturn'].std(), train['LogReturn'].mean()/train['LogReturn'].std()"
   ]
  },
  {
   "cell_type": "code",
   "execution_count": null,
   "metadata": {
    "colab": {
     "base_uri": "https://localhost:8080/"
    },
    "id": "RDSqW_QAovoK",
    "outputId": "c3cc03b8-98cc-4260-dfbb-2bcdf1ffd755"
   },
   "outputs": [
    {
     "data": {
      "text/plain": [
       "(-0.015364371231782586, 0.022384106381325427)"
      ]
     },
     "execution_count": 53,
     "metadata": {
      "tags": []
     },
     "output_type": "execute_result"
    }
   ],
   "source": [
    "# SR algo vs. SR buy-and-hold test\n",
    "test['AlgoLogReturn'].mean()/test['AlgoLogReturn'].std(), test['LogReturn'].mean()/test['LogReturn'].std()"
   ]
  },
  {
   "cell_type": "code",
   "execution_count": null,
   "metadata": {
    "colab": {
     "base_uri": "https://localhost:8080/"
    },
    "id": "Br8aR799o1n2",
    "outputId": "b962f0fe-c75a-4393-af2e-bf8bca8cd5c9"
   },
   "outputs": [
    {
     "data": {
      "image/png": "[encoded data removed]",
      "text/plain": [
       "<Figure size 1440x720 with 1 Axes>"
      ]
     },
     "metadata": {
      "needs_background": "light",
      "tags": []
     },
     "output_type": "display_data"
    }
   ],
   "source": [
    "# Wealth over time\n",
    "train['CumLogReturn'] = train['AlgoLogReturn'].cumsum().shift(1)\n",
    "train['CumWealth'] = train.iloc[0]['Close'] * np.exp(train['CumLogReturn'])\n",
    "train[['Close', 'SlowSMA', 'FastSMA', 'CumWealth']].plot(figsize=(20,10));"
   ]
  }
 ],
 "metadata": {
  "colab": {
   "collapsed_sections": [],
   "name": "Trend Following Strategy SMA.ipynb",
   "provenance": []
  },
  "kernelspec": {
   "display_name": "Python 3",
   "language": "python",
   "name": "python3"
  },
  "language_info": {
   "codemirror_mode": {
    "name": "ipython",
    "version": 3
   },
   "file_extension": ".py",
   "mimetype": "text/x-python",
   "name": "python",
   "nbconvert_exporter": "python",
   "pygments_lexer": "ipython3",
   "version": "3.6.10"
  }
 },
 "nbformat": 4,
 "nbformat_minor": 1
}
