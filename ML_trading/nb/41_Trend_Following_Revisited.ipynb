{
 "cells": [
  {
   "cell_type": "code",
   "execution_count": 1,
   "metadata": {
    "colab": {
     "base_uri": "https://localhost:8080/",
     "height": 224
    },
    "id": "COlaXEHCOCu0",
    "outputId": "bc0ff44d-2bb4-49c8-ab57-65005df0d041"
   },
   "outputs": [
    {
     "name": "stderr",
     "output_type": "stream",
     "text": [
      "File 'SPY.csv' already there; not retrieving.\n",
      "\n"
     ]
    }
   ],
   "source": [
    "!wget -nc https://lazyprogrammer.me/course_files/SPY.csv"
   ]
  },
  {
   "cell_type": "code",
   "execution_count": 1,
   "metadata": {
    "id": "iEJvzYInOKTy"
   },
   "outputs": [],
   "source": [
    "import pandas as pd\n",
    "import numpy as np\n",
    "import matplotlib.pyplot as plt"
   ]
  },
  {
   "cell_type": "code",
   "execution_count": 2,
   "metadata": {
    "id": "hEkbF5NjOLjG"
   },
   "outputs": [],
   "source": [
    "df = pd.read_csv('SPY.csv', index_col='Date', parse_dates=True)"
   ]
  },
  {
   "cell_type": "code",
   "execution_count": 3,
   "metadata": {
    "id": "fRuGFP-5ONYb"
   },
   "outputs": [],
   "source": [
    "# make features\n",
    "df['FastSMA']  = df['Close'].rolling(16).mean()\n",
    "df['SlowSMA']  = df['Close'].rolling(33).mean()\n",
    "feats = ['FastSMA', 'SlowSMA']"
   ]
  },
  {
   "cell_type": "code",
   "execution_count": 4,
   "metadata": {
    "id": "kiDHK2idORyh"
   },
   "outputs": [],
   "source": [
    "df['LogReturn'] = np.log(df['Close']).diff()"
   ]
  },
  {
   "cell_type": "code",
   "execution_count": 5,
   "metadata": {
    "id": "6NCfm_ypOUe3"
   },
   "outputs": [],
   "source": [
    "# split into train and test\n",
    "Ntest = 1000\n",
    "train_data = df.iloc[:-Ntest].copy()\n",
    "test_data = df.iloc[-Ntest:].copy()"
   ]
  },
  {
   "cell_type": "code",
   "execution_count": 6,
   "metadata": {
    "id": "kVzdT0XeOXT4"
   },
   "outputs": [],
   "source": [
    "class Env:\n",
    "  def __init__(self, df):\n",
    "    self.df = df\n",
    "    self.n = len(df)\n",
    "    self.current_idx = 0\n",
    "    self.action_space = [0, 1, 2] # BUY, SELL, HOLD\n",
    "    self.invested = 0\n",
    "\n",
    "    self.states = self.df[feats].to_numpy()\n",
    "    self.rewards = self.df['LogReturn'].to_numpy()\n",
    "    self.total_buy_and_hold = 0\n",
    "\n",
    "  def reset(self):\n",
    "    self.current_idx = 0\n",
    "    self.total_buy_and_hold = 0\n",
    "    self.invested = 0\n",
    "    return self.states[self.current_idx]\n",
    "\n",
    "  def step(self, action):\n",
    "    # need to return (next_state, reward, done)\n",
    "    self.current_idx += 1\n",
    "    if self.current_idx >= self.n:\n",
    "      raise Exception(\"Episode already done\")\n",
    "\n",
    "    if action == 0: # BUY\n",
    "      self.invested = 1\n",
    "    elif action == 1: # SELL\n",
    "      self.invested = 0\n",
    "    \n",
    "    # compute reward\n",
    "    if self.invested:\n",
    "      reward = self.rewards[self.current_idx]\n",
    "    else:\n",
    "      reward = 0\n",
    "\n",
    "    # state transition\n",
    "    next_state = self.states[self.current_idx]\n",
    "\n",
    "    # baseline\n",
    "    self.total_buy_and_hold += self.rewards[self.current_idx]\n",
    "\n",
    "    # done flag\n",
    "    done = (self.current_idx == self.n - 1)\n",
    "    return next_state, reward, done"
   ]
  },
  {
   "cell_type": "code",
   "execution_count": 8,
   "metadata": {
    "id": "RWHxzdnpO1W8"
   },
   "outputs": [],
   "source": [
    "class Agent:\n",
    "  def __init__(self):\n",
    "    self.is_invested = False\n",
    "\n",
    "  def act(self, state):\n",
    "    assert(len(state) == 2)\n",
    "    # (fast, slow)\n",
    "\n",
    "    if state[0] > state[1] and not self.is_invested:\n",
    "      self.is_invested = True\n",
    "      return 0 # Buy\n",
    "\n",
    "    if state[0] < state[1] and self.is_invested:\n",
    "      self.is_invested = False\n",
    "      return 1 # sell\n",
    "\n",
    "    return 2 # Do nothing"
   ]
  },
  {
   "cell_type": "code",
   "execution_count": 9,
   "metadata": {
    "id": "3q6hwFrtO4Eb"
   },
   "outputs": [],
   "source": [
    "def play_one_episode(agent, env):\n",
    "  state = env.reset()\n",
    "  done = False\n",
    "  total_reward = 0\n",
    "  agent.is_invested = False\n",
    "\n",
    "  while not done:\n",
    "    action = agent.act(state)\n",
    "    next_state, reward, done = env.step(action)\n",
    "    total_reward += reward\n",
    "    state = next_state\n",
    "\n",
    "  return total_reward"
   ]
  },
  {
   "cell_type": "code",
   "execution_count": 10,
   "metadata": {
    "id": "pmra5zFvO9q6"
   },
   "outputs": [],
   "source": [
    "train_env = Env(train_data)\n",
    "test_env = Env(test_data)"
   ]
  },
  {
   "cell_type": "code",
   "execution_count": 11,
   "metadata": {
    "id": "bsYlJ0FxPCnO"
   },
   "outputs": [],
   "source": [
    "agent = Agent()"
   ]
  },
  {
   "cell_type": "code",
   "execution_count": 12,
   "metadata": {
    "id": "JauDrDhiPEz6"
   },
   "outputs": [],
   "source": [
    "train_reward = play_one_episode(agent, train_env)"
   ]
  },
  {
   "cell_type": "code",
   "execution_count": 13,
   "metadata": {
    "id": "lCOSFJHLPgkl"
   },
   "outputs": [],
   "source": [
    "test_reward = play_one_episode(agent, test_env)"
   ]
  },
  {
   "cell_type": "code",
   "execution_count": 14,
   "metadata": {
    "colab": {
     "base_uri": "https://localhost:8080/",
     "height": 34
    },
    "id": "dPDEkuNxPi_4",
    "outputId": "99cae5cb-45c8-4574-8f63-4694913b81e4"
   },
   "outputs": [
    {
     "data": {
      "text/plain": [
       "(0.43459304796456966, 0.5970866514889392)"
      ]
     },
     "execution_count": 14,
     "metadata": {},
     "output_type": "execute_result"
    }
   ],
   "source": [
    "train_reward, train_env.total_buy_and_hold"
   ]
  },
  {
   "cell_type": "code",
   "execution_count": 15,
   "metadata": {
    "colab": {
     "base_uri": "https://localhost:8080/",
     "height": 34
    },
    "id": "KgYmu4wEPpaH",
    "outputId": "5b3809c3-5f07-4277-eb0b-65202ae89e66"
   },
   "outputs": [
    {
     "data": {
      "text/plain": [
       "(0.08889132894199214, 0.19307543946998518)"
      ]
     },
     "execution_count": 15,
     "metadata": {},
     "output_type": "execute_result"
    }
   ],
   "source": [
    "test_reward, test_env.total_buy_and_hold"
   ]
  },
  {
   "cell_type": "code",
   "execution_count": null,
   "metadata": {},
   "outputs": [],
   "source": []
  }
 ],
 "metadata": {
  "colab": {
   "collapsed_sections": [],
   "name": "Trend-Following Revisited.ipynb",
   "provenance": []
  },
  "kernelspec": {
   "display_name": "Python 3",
   "language": "python",
   "name": "python3"
  },
  "language_info": {
   "codemirror_mode": {
    "name": "ipython",
    "version": 3
   },
   "file_extension": ".py",
   "mimetype": "text/x-python",
   "name": "python",
   "nbconvert_exporter": "python",
   "pygments_lexer": "ipython3",
   "version": "3.6.10"
  }
 },
 "nbformat": 4,
 "nbformat_minor": 1
}
